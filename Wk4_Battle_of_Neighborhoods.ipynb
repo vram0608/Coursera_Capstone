{
    "cells": [
        {
            "cell_type": "markdown",
            "metadata": {
                "collapsed": true
            },
            "source": "# Canadian Immigration - Clustering & Segmenting the Neighborhoods of Calgary and Vancouver"
        },
        {
            "cell_type": "markdown",
            "metadata": {},
            "source": "### 1. Introduction"
        },
        {
            "cell_type": "markdown",
            "metadata": {},
            "source": "Canada is the second largest country on earth with an area of 10 million square kilometers. However, possibly due to its geographical location and cold climate, its population is about a tenth of its neighbor, the USA.  \n\nTo stimulate economic growth and development, the government of Canada over the years rolled-out immigration policies with the intent of attracting the best talents from all over the world. The country has been very successful in its point-based immigration system, so much so, population has been on the steady increase. This is evident in populations growths across several boroughs and cities in Canada.  \n\nIn addition to being popular tourist and vacation destinations, Calgary and Vancouver, the biggest western cities in the provinces of Alberta and British Columbia respectively, are also leading immigration locations. The cities are diverse and multicultural and offer numerous attractions for potential immigrants and tourists.  \n\nUsing available online public data, this project clusters and segments the neighborhoods of Calgary and Vancouver with the objective of drawing insights useful for immigrants and tourists interested in landmarks including restaurants, schools, residential areas, parks, museums, churches, etc.   \n"
        },
        {
            "cell_type": "markdown",
            "metadata": {},
            "source": "### 2. Business Problem"
        },
        {
            "cell_type": "markdown",
            "metadata": {},
            "source": "Immigrants are usually concerned about which neighborhood to live, available restaurants and cuisine, schools to attend, proximity to hospitals, places of worship and public transportation, amongst other things.  \n\nThe objective of this project is to unearth useful insights for immigrants to select their new place of abode. In addition, it is expected it will allow temporary visitors (tourists) to choose destinations depending on their interests and amenities on offer in different locations.\n"
        },
        {
            "cell_type": "markdown",
            "metadata": {},
            "source": "### 3. Description of Data"
        },
        {
            "cell_type": "markdown",
            "metadata": {},
            "source": "The geographical location for the cities (Calgary & Vancouver) are important for this project. Existing alphanumeric postal codes will serve as proxies to extract information about neighborhoods, boroughs, venues and their most popular venue categories."
        },
        {
            "cell_type": "markdown",
            "metadata": {},
            "source": "#### 3.1 Webscraping "
        },
        {
            "cell_type": "markdown",
            "metadata": {},
            "source": "WebScraping technique will be used to extract information from relevant websites. The following Wikipedia links will be used for the respective cities:  \n\nCalgary: \thttps://en.wikipedia.org/wiki/List_of_postal_codes_of_Canada:_T   \n\nVancouver: \thttps://en.wikipedia.org/wiki/List_of_postal_codes_of_Canada:_V  \n\nThe Calgary link contains the postal codes, boroughs, neighborhoods and their respective coordinates. The Vancouver link also contains the postal code, borough and neighborhood information, however the coordinate data (longitude and latitude) are missing.   \n\nThe Geocoder Python package will be used to extract the longitude, latitude information for Vancouver from the link: https://geocoder.readthedocs.io/index.html. The coordinate data will be merged with the Vancouver list using data-frame merging techniques with post code as the linking parameter.\n"
        },
        {
            "cell_type": "markdown",
            "metadata": {},
            "source": "#### 3.2 Foursquare API "
        },
        {
            "cell_type": "markdown",
            "metadata": {},
            "source": "Several venues are available in different boroughs and neighborhoods. These pieces of information are obtained using the Foursquare location data. Foursquare is a location technology platform offering business solutions and consumer products through a deep understanding of location including all manner of venues and events within an area of interest.   \n\nThe location data from foursquare will be used since it contains robust and relevant information to build the clustering model. The data can readily be extracted via the Foursquare API.  \n\nAfter the listing of the boroughs, neighborhoods and their corresponding coordinates, the Foursquare API is employed to pull information about venues in each neighborhood. \n"
        },
        {
            "cell_type": "markdown",
            "metadata": {},
            "source": "#### 3.3 Data Cleaning & Preprocessing\nOrdering, sorting, grouping, renaming column labels, normalisation are some of the techniques that will be used to wrangle the obtained information into a final data-frame.  \n\n#### 3.4 Clustering Model \nK-means Clustering technique will be used to group the Calgary and Vancouver neighborhoods into 5 clusters each.  \n  \n#### 3.5 Visualization\nVisualization of the clusters for the 2 cities will be carried out using the Python Folium library. Observations and insights can then be drawn and provided to customers to help them with their decisions. \n"
        },
        {
            "cell_type": "code",
            "execution_count": null,
            "metadata": {},
            "outputs": [],
            "source": ""
        }
    ],
    "metadata": {
        "kernelspec": {
            "display_name": "Python 3.7",
            "language": "python",
            "name": "python3"
        },
        "language_info": {
            "codemirror_mode": {
                "name": "ipython",
                "version": 3
            },
            "file_extension": ".py",
            "mimetype": "text/x-python",
            "name": "python",
            "nbconvert_exporter": "python",
            "pygments_lexer": "ipython3",
            "version": "3.7.10"
        }
    },
    "nbformat": 4,
    "nbformat_minor": 1
}